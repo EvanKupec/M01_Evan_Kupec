{
 "cells": [
  {
   "cell_type": "code",
   "execution_count": 4,
   "id": "9d55e76b",
   "metadata": {},
   "outputs": [
    {
     "name": "stdout",
     "output_type": "stream",
     "text": [
      "Number of seconds in an hour: 3600\n"
     ]
    }
   ],
   "source": [
    "seconds_in_minute = 60\n",
    "minutes_in_hour = 60\n",
    "seconds_in_hour = seconds_in_minute * minutes_in_hour\n",
    "print(\"Number of seconds in an hour:\", seconds_in_hour)"
   ]
  },
  {
   "cell_type": "code",
   "execution_count": 3,
   "id": "13fbaac2",
   "metadata": {},
   "outputs": [
    {
     "name": "stdout",
     "output_type": "stream",
     "text": [
      "3600\n"
     ]
    }
   ],
   "source": [
    "seconds_per_hour = seconds_in_hour\n",
    "print(seconds_per_hour)"
   ]
  },
  {
   "cell_type": "code",
   "execution_count": 7,
   "id": "45e3e0d7",
   "metadata": {},
   "outputs": [
    {
     "name": "stdout",
     "output_type": "stream",
     "text": [
      "Number of seconds in a day: 86400\n"
     ]
    }
   ],
   "source": [
    "hours_in_day = 24\n",
    "seconds_per_day = seconds_per_hour * hours_in_day\n",
    "print(\"Number of seconds in a day:\", seconds_per_day)"
   ]
  },
  {
   "cell_type": "code",
   "execution_count": 9,
   "id": "fbe32ede",
   "metadata": {},
   "outputs": [
    {
     "name": "stdout",
     "output_type": "stream",
     "text": [
      "Floating point division: 24.0\n",
      "Integer division: 24\n"
     ]
    }
   ],
   "source": [
    "print(\"Floating point division:\", seconds_per_day / seconds_per_hour)\n",
    "print(\"Integer division:\", seconds_per_day // seconds_per_hour)"
   ]
  },
  {
   "cell_type": "markdown",
   "id": "0353b241",
   "metadata": {},
   "source": [
    "The numbers agree, other than the .0"
   ]
  }
 ],
 "metadata": {
  "kernelspec": {
   "display_name": "Python 3 (ipykernel)",
   "language": "python",
   "name": "python3"
  },
  "language_info": {
   "codemirror_mode": {
    "name": "ipython",
    "version": 3
   },
   "file_extension": ".py",
   "mimetype": "text/x-python",
   "name": "python",
   "nbconvert_exporter": "python",
   "pygments_lexer": "ipython3",
   "version": "3.11.5"
  }
 },
 "nbformat": 4,
 "nbformat_minor": 5
}
